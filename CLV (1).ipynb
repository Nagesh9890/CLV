{
  "nbformat": 4,
  "nbformat_minor": 0,
  "metadata": {
    "colab": {
      "provenance": []
    },
    "kernelspec": {
      "name": "python3",
      "display_name": "Python 3"
    },
    "language_info": {
      "name": "python"
    }
  },
  "cells": [
    {
      "cell_type": "code",
      "source": [
        "# Customer Lifetime Value"
      ],
      "metadata": {
        "id": "KEsokXji0Lxd"
      },
      "execution_count": null,
      "outputs": []
    },
    {
      "cell_type": "code",
      "source": [
        "def calculate_clv(average_yearly_revenue, customer_lifespan, churn_rate):\n",
        "    clv = (average_yearly_revenue * customer_lifespan) - (churn_rate * average_yearly_revenue * customer_lifespan)\n",
        "    return clv\n",
        "\n",
        "average_yearly_revenue = 1000\n",
        "customer_lifespan = 5\n",
        "churn_rate = 0.2  # (20% annual churn rate)\n",
        "\n",
        "clv = calculate_clv(average_yearly_revenue, customer_lifespan, churn_rate)\n",
        "print(f\"The Customer Lifetime Value is: Rs {clv}\")\n"
      ],
      "metadata": {
        "colab": {
          "base_uri": "https://localhost:8080/"
        },
        "id": "Z_bmh_QhzzfV",
        "outputId": "3ae11cd8-ef4f-41e1-d4e5-75a3d4537182"
      },
      "execution_count": null,
      "outputs": [
        {
          "output_type": "stream",
          "name": "stdout",
          "text": [
            "The Customer Lifetime Value is: Rs 4000.0\n"
          ]
        }
      ]
    },
    {
      "cell_type": "code",
      "source": [
        "import pandas as pd\n",
        "\n",
        "def calculate_clv(data, revenue_col, lifespan_col, churn_col):\n",
        "    data['CLV'] = (data[revenue_col] * data[lifespan_col]) - (data[churn_col] * data[revenue_col] * data[lifespan_col])\n",
        "    return data\n",
        "\n",
        "# Load data from Excel\n",
        "data = pd.read_excel('/content/CLV1.xlsx')\n",
        "\n",
        "# Specify column namesx\n",
        "average_yearly_revenue_col = 'Average Yearly Revenue'  #  column name\n",
        "customer_lifespan_col = 'Lifespan (years)'  #  column name\n",
        "churn_rate_col = 'Churn Rate'  #  column name\n",
        "\n",
        "# Calculate CLV and add as new column\n",
        "data = calculate_clv(data, average_yearly_revenue_col, customer_lifespan_col, churn_rate_col)\n",
        "\n",
        "# Write output back to new Excel file\n",
        "data.to_excel('output.xlsx', index=False)\n"
      ],
      "metadata": {
        "id": "aYkSwWnl4Zuw"
      },
      "execution_count": null,
      "outputs": []
    },
    {
      "cell_type": "code",
      "execution_count": null,
      "metadata": {
        "colab": {
          "base_uri": "https://localhost:8080/"
        },
        "id": "gAq18JI2gbRy",
        "outputId": "e266fe4d-2c03-4071-d137-70370d1015df"
      },
      "outputs": [
        {
          "output_type": "stream",
          "name": "stdout",
          "text": [
            "RMSE: 377545.9091880743\n",
            "R2: 0.7543339845254895\n",
            "Predicted CLV for the sample values: 202846.2942279214\n"
          ]
        },
        {
          "output_type": "stream",
          "name": "stderr",
          "text": [
            "/usr/local/lib/python3.10/dist-packages/sklearn/base.py:439: UserWarning: X does not have valid feature names, but LinearRegression was fitted with feature names\n",
            "  warnings.warn(\n"
          ]
        }
      ],
      "source": [
        "import pandas as pd\n",
        "import numpy as np\n",
        "from sklearn.model_selection import train_test_split\n",
        "from sklearn.linear_model import LinearRegression\n",
        "from sklearn.metrics import mean_squared_error, r2_score\n",
        "\n",
        "# Load the data from the Excel file\n",
        "df = pd.read_excel('/content/output.xlsx')\n",
        "\n",
        "# Define the feature variables and the target variable\n",
        "X = df[['Lifespan (years)', 'Average Yearly Revenue', 'Churn Rate', 'Discount Rate']]\n",
        "y = df['CLV']\n",
        "\n",
        "# Split the data into training and testing sets\n",
        "X_train, X_test, y_train, y_test = train_test_split(X, y, test_size=0.2, random_state=0)\n",
        "\n",
        "# Create a Linear Regression model\n",
        "model = LinearRegression()\n",
        "\n",
        "# Train the model using the training data\n",
        "model.fit(X_train, y_train)\n",
        "\n",
        "# Use the model to make predictions on the test data\n",
        "y_pred = model.predict(X_test)\n",
        "\n",
        "# Calculate the root mean squared error and r-squared value for the predictions on the test set\n",
        "rmse = np.sqrt(mean_squared_error(y_test, y_pred))\n",
        "r2 = r2_score(y_test, y_pred)\n",
        "\n",
        "print(f\"RMSE: {rmse}\")\n",
        "print(f\"R2: {r2}\")\n",
        "\n",
        "# Sample values for prediction\n",
        "sample_values = [[5, 7000, 0.05, 0.07]]\n",
        "\n",
        "# Use the model to predict the CLV for the sample values\n",
        "sample_prediction = model.predict(sample_values)\n",
        "\n",
        "print(f\"Predicted CLV for the sample values: {sample_prediction[0]}\")\n"
      ]
    }
  ]
}